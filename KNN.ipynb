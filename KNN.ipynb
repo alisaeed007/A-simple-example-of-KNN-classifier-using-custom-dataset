{
  "nbformat": 4,
  "nbformat_minor": 0,
  "metadata": {
    "colab": {
      "provenance": []
    },
    "kernelspec": {
      "name": "python3",
      "display_name": "Python 3"
    },
    "language_info": {
      "name": "python"
    }
  },
  "cells": [
    {
      "cell_type": "code",
      "execution_count": 16,
      "metadata": {
        "colab": {
          "base_uri": "https://localhost:8080/"
        },
        "id": "cRldkTh-qxdZ",
        "outputId": "1ee4655a-7d6c-4173-c59b-2a1730baef33"
      },
      "outputs": [
        {
          "output_type": "stream",
          "name": "stdout",
          "text": [
            "Model accuracy score: 1.0000\n"
          ]
        }
      ],
      "source": [
        "from sklearn.cluster import KMeans\n",
        "import pandas as pd\n",
        "from matplotlib import pyplot as plot\n",
        "from sklearn.neighbors import KNeighborsClassifier\n",
        "from google.colab import drive\n",
        "from sklearn.preprocessing import RobustScaler\n",
        "from sklearn.model_selection import train_test_split\n",
        "from sklearn.preprocessing import LabelEncoder # for one-d array\n",
        "from sklearn.preprocessing import OneHotEncoder # for multiple columns\n",
        "from sklearn.metrics import accuracy_score\n",
        "\n",
        "#drive.mount('/content/drive')\n",
        "path = '/content/drive/MyDrive/abc/Dataset.csv'\n",
        "df = pd.read_csv(path)\n",
        "df\n",
        "\n",
        "\n",
        "X= df.iloc[0:,0:2].values\n",
        "Y= df.iloc[0:,2].values\n",
        "#Follow line apply one-hot on X data\n",
        "onehotencoder1 = OneHotEncoder()\n",
        "X = onehotencoder1.fit_transform(X).toarray()\n",
        "\n",
        "#Follow line apply one-hot on Y data\n",
        "le = LabelEncoder()\n",
        "Y = le.fit_transform(Y)\n",
        "Y = Y.reshape(-1,1)\n",
        "\n",
        "X_train,X_test,Y_train,Y_test = train_test_split(X,Y,test_size=0.33)\n",
        "\n",
        "neigh = KNeighborsClassifier(n_neighbors=3)\n",
        "\n",
        "# fit the model\n",
        "neigh.fit(X_train, Y_train.ravel())\n",
        "\n",
        "\n",
        "y_pred = neigh.predict(X_test)\n",
        "\n",
        "print('Model accuracy score: {0:0.4f}'. format(accuracy_score(Y_test, y_pred)))\n",
        "\n"
      ]
    }
  ]
}